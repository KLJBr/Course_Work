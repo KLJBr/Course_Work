{
 "cells": [
  {
   "cell_type": "code",
   "execution_count": 1,
   "id": "1e811bdd",
   "metadata": {},
   "outputs": [],
   "source": [
    "import pandas as pd\n",
    "import numpy as np\n",
    "import seaborn as sns\n",
    "import matplotlib.pyplot as plt\n",
    "from sklearn.model_selection import train_test_split, GroupKFold, GridSearchCV\n",
    "from sklearn import linear_model \n",
    "from sklearn.ensemble import RandomForestRegressor,GradientBoostingRegressor\n",
    "from sklearn.tree import DecisionTreeRegressor\n",
    "from sklearn.neighbors import KNeighborsRegressor\n",
    "from sklearn.svm import SVR\n",
    "from sklearn.metrics import mean_absolute_error, mean_squared_error, r2_score\n",
    "from sklearn.dummy import DummyRegressor\n",
    "from xgboost import XGBRegressor\n",
    "from lightgbm import LGBMRegressor\n",
    "from catboost import CatBoostRegressor\n",
    "import warnings\n",
    "\n",
    "warnings.filterwarnings('ignore')"
   ]
  },
  {
   "cell_type": "code",
   "execution_count": 2,
   "id": "55b01416",
   "metadata": {},
   "outputs": [],
   "source": [
    "data = pd.read_csv(\"data_lagged.csv\")"
   ]
  },
  {
   "cell_type": "markdown",
   "id": "4df35a82",
   "metadata": {},
   "source": [
    "# Разделяем данные"
   ]
  },
  {
   "cell_type": "code",
   "execution_count": 3,
   "id": "13b1d0db",
   "metadata": {},
   "outputs": [],
   "source": [
    "X1 = data[data[\"label\"] == 1][\"batch_id\"].unique()\n",
    "X2 = data[data[\"label\"] == 2][\"batch_id\"].unique()\n",
    "X3 = data[data[\"label\"] == 3][\"batch_id\"].unique()\n",
    "X1_train, X1_test = train_test_split(X1,train_size = 0.7, random_state = 42)\n",
    "X2_train, X2_test = train_test_split(X2,train_size = 0.7, random_state = 42)\n",
    "X3_train, X3_test = train_test_split(X3,train_size = 0.7, random_state = 42)\n",
    "X_train = [*X1_train, *X2_train, *X3_train]\n",
    "X_test = [*X1_test, *X2_test, *X3_test]\n",
    "data_train = data[data[\"batch_id\"].apply(lambda x: x in X_train)]\n",
    "data_test = data[data[\"batch_id\"].apply(lambda x: x in X_test)]"
   ]
  },
  {
   "cell_type": "code",
   "execution_count": 5,
   "id": "c215efb2",
   "metadata": {},
   "outputs": [],
   "source": [
    "groups = np.array(data_train['batch_id'])\n",
    "idx = pd.Index(groups)\n",
    "Xb = data_train.drop(['msec', 'Valence', 'Arousal', 'label', 'batch_id'], axis = 1).set_index(idx)\n",
    "yb_valence = data_train.iloc[:,4:5].set_index(idx)\n",
    "yb_arousal = data_train.iloc[:,5:6].set_index(idx)"
   ]
  },
  {
   "cell_type": "markdown",
   "id": "362ec754",
   "metadata": {},
   "source": [
    "## Подбор параметров с помощью GridSearchCV и кросс-валидации GroupKFold"
   ]
  },
  {
   "cell_type": "markdown",
   "id": "174d91f4",
   "metadata": {},
   "source": [
    "### SVR подбор параметра \"kernel\""
   ]
  },
  {
   "cell_type": "code",
   "execution_count": 21,
   "id": "5086aa01",
   "metadata": {},
   "outputs": [
    {
     "data": {
      "text/plain": [
       "{'kernel': 'linear'}"
      ]
     },
     "execution_count": 21,
     "metadata": {},
     "output_type": "execute_result"
    }
   ],
   "source": [
    "#Valence\n",
    "GKF = GroupKFold(n_splits=5)\n",
    "cv = GKF.split(Xb, yb_valence, groups)\n",
    "params = {'kernel' : ['linear', 'poly', 'rbf', 'sigmoid']}\n",
    "\n",
    "grid = GridSearchCV(estimator = SVR(),\n",
    "                    param_grid = params, \n",
    "                    scoring = 'r2',\n",
    "                    cv = cv)\n",
    "\n",
    "g = grid.fit(Xb, yb_valence)\n",
    "g.best_params_"
   ]
  },
  {
   "cell_type": "code",
   "execution_count": 22,
   "id": "52f36b9f",
   "metadata": {},
   "outputs": [
    {
     "data": {
      "text/plain": [
       "{'kernel': 'linear'}"
      ]
     },
     "execution_count": 22,
     "metadata": {},
     "output_type": "execute_result"
    }
   ],
   "source": [
    "#Arousal\n",
    "GKF = GroupKFold(n_splits=5)\n",
    "cv = GKF.split(Xb, yb_arousal, groups)\n",
    "params = {'kernel' : ['linear', 'poly', 'rbf', 'sigmoid']}\n",
    "\n",
    "grid = GridSearchCV(estimator = SVR(),\n",
    "                    param_grid = params, \n",
    "                    scoring = 'r2',\n",
    "                    cv = cv)\n",
    "\n",
    "g = grid.fit(Xb, yb_arousal)\n",
    "g.best_params_"
   ]
  },
  {
   "cell_type": "markdown",
   "id": "9baa0818",
   "metadata": {},
   "source": [
    "### KNeighborsRegressor подбор гиперпараметрa n_neighbors"
   ]
  },
  {
   "cell_type": "code",
   "execution_count": 15,
   "id": "0ac87eae",
   "metadata": {},
   "outputs": [
    {
     "data": {
      "text/plain": [
       "{'n_neighbors': 62}"
      ]
     },
     "execution_count": 15,
     "metadata": {},
     "output_type": "execute_result"
    }
   ],
   "source": [
    "#Valence\n",
    "GKF = GroupKFold(n_splits=5)\n",
    "cv = GKF.split(Xb, yb_valence, groups)\n",
    "params = {'n_neighbors' : np.arange(1, 200)}\n",
    "\n",
    "grid = GridSearchCV(estimator = KNeighborsRegressor(),\n",
    "                    param_grid = params, \n",
    "                    scoring = 'r2',\n",
    "                    cv = cv)\n",
    "\n",
    "g = grid.fit(Xb, yb_valence)\n",
    "g.best_params_"
   ]
  },
  {
   "cell_type": "code",
   "execution_count": 24,
   "id": "62bb7973",
   "metadata": {},
   "outputs": [
    {
     "data": {
      "text/plain": [
       "{'n_neighbors': 94}"
      ]
     },
     "execution_count": 24,
     "metadata": {},
     "output_type": "execute_result"
    }
   ],
   "source": [
    "#Arousal\n",
    "GKF = GroupKFold(n_splits=5)\n",
    "cv = GKF.split(Xb, yb_arousal, groups)\n",
    "params = {'n_neighbors' : np.arange(1, 200)}\n",
    "\n",
    "grid = GridSearchCV(estimator = KNeighborsRegressor(),\n",
    "                    param_grid = params, \n",
    "                    scoring = 'r2',\n",
    "                    cv = cv)\n",
    "\n",
    "g = grid.fit(Xb, yb_arousal)\n",
    "g.best_params_"
   ]
  },
  {
   "cell_type": "markdown",
   "id": "5d247850",
   "metadata": {},
   "source": [
    "### DecisionTreeRegressor подбор гиперпараметрa max_depth"
   ]
  },
  {
   "cell_type": "code",
   "execution_count": 25,
   "id": "c53d1dd1",
   "metadata": {},
   "outputs": [
    {
     "data": {
      "text/plain": [
       "{'max_depth': 1}"
      ]
     },
     "execution_count": 25,
     "metadata": {},
     "output_type": "execute_result"
    }
   ],
   "source": [
    "#Valence\n",
    "GKF = GroupKFold(n_splits=5)\n",
    "cv = GKF.split(Xb, yb_valence, groups)\n",
    "params = {'max_depth' : np.arange(1, 20)}\n",
    "\n",
    "grid = GridSearchCV(estimator = DecisionTreeRegressor(random_state = 42),\n",
    "                    param_grid = params, \n",
    "                    scoring = 'r2',\n",
    "                    cv = cv)\n",
    "\n",
    "g = grid.fit(Xb, yb_valence)\n",
    "g.best_params_"
   ]
  },
  {
   "cell_type": "code",
   "execution_count": 26,
   "id": "1f5ee7a2",
   "metadata": {},
   "outputs": [
    {
     "data": {
      "text/plain": [
       "{'max_depth': 2}"
      ]
     },
     "execution_count": 26,
     "metadata": {},
     "output_type": "execute_result"
    }
   ],
   "source": [
    "#Arousal\n",
    "GKF = GroupKFold(n_splits=5)\n",
    "cv = GKF.split(Xb, yb_arousal, groups)\n",
    "params = {'max_depth' : np.arange(1, 20)}\n",
    "\n",
    "grid = GridSearchCV(estimator = DecisionTreeRegressor(random_state = 42),\n",
    "                    param_grid = params, \n",
    "                    scoring = 'r2',\n",
    "                    cv = cv)\n",
    "\n",
    "g = grid.fit(Xb, yb_arousal)\n",
    "g.best_params_"
   ]
  },
  {
   "cell_type": "markdown",
   "id": "7dfc79d2",
   "metadata": {},
   "source": [
    "### RandomForestRegressor подбор параметров max_depth, n_estimators."
   ]
  },
  {
   "cell_type": "code",
   "execution_count": 6,
   "id": "1d230cef",
   "metadata": {},
   "outputs": [
    {
     "data": {
      "text/plain": [
       "{'max_depth': 4, 'n_estimators': 400}"
      ]
     },
     "execution_count": 6,
     "metadata": {},
     "output_type": "execute_result"
    }
   ],
   "source": [
    "#Valence\n",
    "GKF = GroupKFold(n_splits=5)\n",
    "cv = GKF.split(Xb, yb_valence, groups)\n",
    "params = {'max_depth' : [1, 2, 3, 4, 5, 6, 7, None], 'n_estimators':np.arange(100, 600, 100)}\n",
    "\n",
    "grid = GridSearchCV(estimator = RandomForestRegressor(random_state = 42),\n",
    "                    param_grid = params, \n",
    "                    scoring = 'r2',\n",
    "                    cv = cv)\n",
    "\n",
    "g = grid.fit(Xb, yb_valence)\n",
    "g.best_params_"
   ]
  },
  {
   "cell_type": "code",
   "execution_count": 7,
   "id": "0e5496d0",
   "metadata": {},
   "outputs": [
    {
     "data": {
      "text/plain": [
       "{'max_depth': 2, 'n_estimators': 400}"
      ]
     },
     "execution_count": 7,
     "metadata": {},
     "output_type": "execute_result"
    }
   ],
   "source": [
    "#Arousal\n",
    "GKF = GroupKFold(n_splits=5)\n",
    "cv = GKF.split(Xb, yb_arousal, groups)\n",
    "params = {'max_depth' : [None, 1, 2, 3, 4, 5], 'n_estimators':np.arange(100, 600, 100)}\n",
    "\n",
    "grid = GridSearchCV(estimator = RandomForestRegressor(random_state = 42),\n",
    "                    param_grid = params, \n",
    "                    scoring = 'r2',\n",
    "                    cv = cv)\n",
    "\n",
    "g = grid.fit(Xb, yb_arousal)\n",
    "g.best_params_"
   ]
  },
  {
   "cell_type": "markdown",
   "id": "fd8531fa",
   "metadata": {},
   "source": [
    "### GradientBoostingRegressor подбор параметров max_depth, n_estimators."
   ]
  },
  {
   "cell_type": "code",
   "execution_count": 44,
   "id": "ada03b9b",
   "metadata": {},
   "outputs": [
    {
     "data": {
      "text/plain": [
       "{'max_depth': 1, 'n_estimators': 100}"
      ]
     },
     "execution_count": 44,
     "metadata": {},
     "output_type": "execute_result"
    }
   ],
   "source": [
    "#Valence\n",
    "GKF = GroupKFold(n_splits=5)\n",
    "cv = GKF.split(Xb, yb_valence, groups)\n",
    "params = {'max_depth' : np.arange(1, 5), 'n_estimators':np.arange(100, 600, 100)}\n",
    "\n",
    "grid = GridSearchCV(estimator = GradientBoostingRegressor(random_state = 42),\n",
    "                    param_grid = params, \n",
    "                    scoring = 'r2',\n",
    "                    cv = cv)\n",
    " \n",
    "g = grid.fit(Xb, yb_valence)\n",
    "g.best_params_"
   ]
  },
  {
   "cell_type": "code",
   "execution_count": 45,
   "id": "27145d3a",
   "metadata": {},
   "outputs": [
    {
     "data": {
      "text/plain": [
       "{'max_depth': 1, 'n_estimators': 100}"
      ]
     },
     "execution_count": 45,
     "metadata": {},
     "output_type": "execute_result"
    }
   ],
   "source": [
    "#Arousal\n",
    "GKF = GroupKFold(n_splits=5)\n",
    "cv = GKF.split(Xb, yb_arousal, groups)\n",
    "params = {'max_depth' : np.arange(1, 5), 'n_estimators':np.arange(100, 600, 100)}\n",
    "\n",
    "grid = GridSearchCV(estimator = GradientBoostingRegressor(random_state = 42),\n",
    "                    param_grid = params, \n",
    "                    scoring = 'r2',\n",
    "                    cv = cv)\n",
    "\n",
    "g = grid.fit(Xb, yb_arousal)\n",
    "g.best_params_"
   ]
  },
  {
   "cell_type": "markdown",
   "id": "17566601",
   "metadata": {},
   "source": [
    "### LGBMRegressor подбор параметров max_depth, n_estimators."
   ]
  },
  {
   "cell_type": "code",
   "execution_count": 46,
   "id": "4f0b61f8",
   "metadata": {},
   "outputs": [
    {
     "data": {
      "text/plain": [
       "{'max_depth': 1, 'n_estimators': 100}"
      ]
     },
     "execution_count": 46,
     "metadata": {},
     "output_type": "execute_result"
    }
   ],
   "source": [
    "#Valence\n",
    "GKF = GroupKFold(n_splits=5)\n",
    "cv = GKF.split(Xb, yb_valence, groups)\n",
    "params = {'max_depth' : np.arange(1, 5), 'n_estimators':np.arange(100, 600, 100)}\n",
    "\n",
    "grid = GridSearchCV(estimator = LGBMRegressor(random_state = 42),\n",
    "                    param_grid = params, \n",
    "                    scoring = 'r2',\n",
    "                    cv = cv)\n",
    "\n",
    "g = grid.fit(Xb, yb_valence)\n",
    "g.best_params_"
   ]
  },
  {
   "cell_type": "code",
   "execution_count": 51,
   "id": "103a4449",
   "metadata": {},
   "outputs": [
    {
     "data": {
      "text/plain": [
       "{'max_depth': 1, 'n_estimators': 300}"
      ]
     },
     "execution_count": 51,
     "metadata": {},
     "output_type": "execute_result"
    }
   ],
   "source": [
    "#Arousal\n",
    "GKF = GroupKFold(n_splits=5)\n",
    "cv = GKF.split(Xb, yb_arousal, groups)\n",
    "params = {'max_depth' : np.arange(1, 5), 'n_estimators':np.arange(100, 600, 100)}\n",
    "\n",
    "grid = GridSearchCV(estimator = LGBMRegressor(random_state = 42),\n",
    "                    param_grid = params, \n",
    "                    scoring = 'r2',\n",
    "                    cv = cv)\n",
    "\n",
    "g = grid.fit(Xb, yb_arousal)\n",
    "g.best_params_"
   ]
  },
  {
   "cell_type": "markdown",
   "id": "c8172083",
   "metadata": {},
   "source": [
    "### XGBRegressor подбор параметров max_depth, n_estimators."
   ]
  },
  {
   "cell_type": "code",
   "execution_count": 48,
   "id": "612df26e",
   "metadata": {},
   "outputs": [
    {
     "data": {
      "text/plain": [
       "{'max_depth': 1, 'n_estimators': 100}"
      ]
     },
     "execution_count": 48,
     "metadata": {},
     "output_type": "execute_result"
    }
   ],
   "source": [
    "#Valence\n",
    "GKF = GroupKFold(n_splits=5)\n",
    "cv = GKF.split(Xb, yb_valence, groups)\n",
    "params = {'max_depth' : np.arange(1, 5), 'n_estimators':np.arange(100, 600, 100)}\n",
    "\n",
    "grid = GridSearchCV(estimator = XGBRegressor(random_state = 42),\n",
    "                    param_grid = params, \n",
    "                    scoring = 'r2',\n",
    "                    cv = cv)\n",
    "\n",
    "g = grid.fit(Xb, yb_valence)\n",
    "g.best_params_"
   ]
  },
  {
   "cell_type": "code",
   "execution_count": 49,
   "id": "30a00e76",
   "metadata": {},
   "outputs": [
    {
     "data": {
      "text/plain": [
       "{'max_depth': 1, 'n_estimators': 100}"
      ]
     },
     "execution_count": 49,
     "metadata": {},
     "output_type": "execute_result"
    }
   ],
   "source": [
    "#Arousal\n",
    "GKF = GroupKFold(n_splits=5)\n",
    "cv = GKF.split(Xb, yb_arousal, groups)\n",
    "params = {'max_depth' : np.arange(1, 5), 'n_estimators':np.arange(100, 600, 100)}\n",
    "\n",
    "grid = GridSearchCV(estimator = XGBRegressor(random_state = 42),\n",
    "                    param_grid = params, \n",
    "                    scoring = 'r2',\n",
    "                    cv = cv)\n",
    "\n",
    "g = grid.fit(Xb, yb_arousal)\n",
    "g.best_params_"
   ]
  },
  {
   "cell_type": "markdown",
   "id": "f1e666e3",
   "metadata": {},
   "source": [
    "### CatBoostRegressor подбор параметров max_depth, n_estimators."
   ]
  },
  {
   "cell_type": "code",
   "execution_count": 37,
   "id": "bf3b6566",
   "metadata": {},
   "outputs": [],
   "source": [
    "#Valence\n",
    "GKF = GroupKFold(n_splits=5)\n",
    "cv = GKF.split(Xb, yb_valence, groups)\n",
    "params = {'depth' : np.arange(1, 5), 'iterations':np.arange(100, 600, 100)}\n",
    "\n",
    "grid = GridSearchCV(estimator = CatBoostRegressor(random_state = 42, verbose = False, train_dir = 'catboost_with_lagged_log'),\n",
    "                    param_grid = params, \n",
    "                    scoring = 'r2',\n",
    "                    cv = cv)\n",
    "\n",
    "gv = grid.fit(Xb, yb_valence)"
   ]
  },
  {
   "cell_type": "code",
   "execution_count": 38,
   "id": "7fb0646a",
   "metadata": {},
   "outputs": [],
   "source": [
    "#Arousal\n",
    "GKF = GroupKFold(n_splits=5)\n",
    "cv = GKF.split(Xb, yb_arousal, groups)\n",
    "params = {'depth' : np.arange(1, 5), 'iterations':np.arange(100, 600, 100)}\n",
    "\n",
    "grid = GridSearchCV(estimator = CatBoostRegressor(random_state = 42, verbose = False, train_dir = 'catboost_with_lagged_log'),\n",
    "                    param_grid = params, \n",
    "                    scoring = 'r2',\n",
    "                    cv = cv)\n",
    "\n",
    "ga = grid.fit(Xb, yb_arousal)"
   ]
  },
  {
   "cell_type": "code",
   "execution_count": 39,
   "id": "d83b7276",
   "metadata": {},
   "outputs": [
    {
     "name": "stdout",
     "output_type": "stream",
     "text": [
      "Параметры для Valence: {'depth': 2, 'iterations': 200}\n",
      "Параметры для Arousal: {'depth': 1, 'iterations': 400}\n"
     ]
    }
   ],
   "source": [
    "print(f'Параметры для Valence: {gv.best_params_}')\n",
    "print(f'Параметры для Arousal: {ga.best_params_}')"
   ]
  }
 ],
 "metadata": {
  "kernelspec": {
   "display_name": "Python 3 (ipykernel)",
   "language": "python",
   "name": "python3"
  },
  "language_info": {
   "codemirror_mode": {
    "name": "ipython",
    "version": 3
   },
   "file_extension": ".py",
   "mimetype": "text/x-python",
   "name": "python",
   "nbconvert_exporter": "python",
   "pygments_lexer": "ipython3",
   "version": "3.9.12"
  }
 },
 "nbformat": 4,
 "nbformat_minor": 5
}
