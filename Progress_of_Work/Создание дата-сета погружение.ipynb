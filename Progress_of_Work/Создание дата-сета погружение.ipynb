{
 "cells": [
  {
   "cell_type": "code",
   "execution_count": 1,
   "id": "02b69584",
   "metadata": {},
   "outputs": [],
   "source": [
    "import pandas as pd\n",
    "import numpy as np\n",
    "import seaborn as sns\n",
    "import matplotlib.pyplot as plt\n",
    "import warnings\n",
    "\n",
    "warnings.filterwarnings('ignore')"
   ]
  },
  {
   "cell_type": "code",
   "execution_count": 9,
   "id": "c1ef697d",
   "metadata": {},
   "outputs": [],
   "source": [
    "df = pd.read_csv(\"data_vad.csv\")\n",
    "data = df[(df[\"Valence\"].notna())&(df[\"Arousal\"].notna())].drop([\"filename\"], axis = 1)"
   ]
  },
  {
   "cell_type": "markdown",
   "id": "667ac7f6",
   "metadata": {},
   "source": [
    "### Количество шагов"
   ]
  },
  {
   "cell_type": "code",
   "execution_count": 10,
   "id": "fbc470cf",
   "metadata": {},
   "outputs": [],
   "source": [
    "def lag_count(df_new, batch_id = str):\n",
    "    data_id = df_new[df_new['batch_id'] == batch_id]\n",
    "    d = {'Corr': 1, 'Zyg': 2, 'Mas': 3}\n",
    "    d_lag = {'Corr':int, 'Zyg':int, 'Mas':int}\n",
    "    for name_column in d.keys():\n",
    "        max_corr = corr = data_id.corr().loc[name_column, name_column]\n",
    "        period = 1\n",
    "        exp = np.exp(1)\n",
    "        j = d[name_column]\n",
    "        while corr > max_corr//exp and period < data_id.shape[0]:\n",
    "            data_id[name_column + '_lag' + str(period)] = data_id.iloc[:,j:(j + 1)].shift(period)\n",
    "            corr = data_id.corr().loc[name_column + '_lag' + str(period), name_column]\n",
    "            period += 1\n",
    "        d_lag[name_column] = period - 1\n",
    "    return d_lag"
   ]
  },
  {
   "cell_type": "code",
   "execution_count": 11,
   "id": "6280a4c1",
   "metadata": {},
   "outputs": [],
   "source": [
    "arr_corr = []\n",
    "arr_zyg = []\n",
    "arr_mas = []"
   ]
  },
  {
   "cell_type": "code",
   "execution_count": 12,
   "id": "c8ff74dc",
   "metadata": {},
   "outputs": [],
   "source": [
    "for batch_id in data[\"batch_id\"].unique():\n",
    "    d = lag_count(data, batch_id)\n",
    "    arr_corr.append(d[\"Corr\"])\n",
    "    arr_zyg.append(d[\"Zyg\"])\n",
    "    arr_mas.append(d[\"Mas\"])"
   ]
  },
  {
   "cell_type": "code",
   "execution_count": 13,
   "id": "c98095c4",
   "metadata": {},
   "outputs": [
    {
     "name": "stdout",
     "output_type": "stream",
     "text": [
      "Количество шагов для Corr: 6.0\n",
      "Количество шагов для Zyg: 6.0\n",
      "Количество шагов для Mas: 5.0\n"
     ]
    }
   ],
   "source": [
    "print(f'Количество шагов для Corr: {round(np.array(arr_corr).mean(), 0)}')\n",
    "print(f'Количество шагов для Zyg: {round(np.array(arr_zyg).mean(), 0)}')\n",
    "print(f'Количество шагов для Mas: {round(np.array(arr_mas).mean(), 0)}')"
   ]
  },
  {
   "cell_type": "markdown",
   "id": "938dd594",
   "metadata": {},
   "source": [
    "### Создадим DataFrame погружения"
   ]
  },
  {
   "cell_type": "code",
   "execution_count": 14,
   "id": "6d19be29",
   "metadata": {},
   "outputs": [],
   "source": [
    "def delay_embedding(df_new, batch_id = str):\n",
    "    data_id = df_new[df_new['batch_id'] == batch_id]\n",
    "    d = {'Corr': 1, 'Zyg': 2, 'Mas': 3}\n",
    "    d_lag = {'Corr': 6, 'Zyg': 6, 'Mas': 5}\n",
    "    for name_column in d.keys():\n",
    "        max_corr = corr = data_id.corr().loc[name_column, name_column]\n",
    "        period = 1\n",
    "        exp = np.exp(1)\n",
    "        j = d[name_column]\n",
    "        while period <= d_lag[name_column]:\n",
    "            data_id[name_column + '_lag' + str(period)] = data_id.iloc[:,j:(j + 1)].shift(period)\n",
    "            corr = data_id.corr().loc[name_column + '_lag' + str(period), name_column]\n",
    "            period += 1\n",
    "    return data_id.dropna()"
   ]
  },
  {
   "cell_type": "code",
   "execution_count": 15,
   "id": "05d95a8f",
   "metadata": {},
   "outputs": [
    {
     "name": "stdout",
     "output_type": "stream",
     "text": [
      "<class 'pandas.core.frame.DataFrame'>\n",
      "RangeIndex: 2654 entries, 0 to 2653\n",
      "Data columns (total 25 columns):\n",
      " #   Column     Non-Null Count  Dtype  \n",
      "---  ------     --------------  -----  \n",
      " 0   msec       2654 non-null   int64  \n",
      " 1   Corr       2654 non-null   float64\n",
      " 2   Zyg        2654 non-null   float64\n",
      " 3   Mas        2654 non-null   float64\n",
      " 4   Valence    2654 non-null   float64\n",
      " 5   Arousal    2654 non-null   float64\n",
      " 6   label      2654 non-null   int64  \n",
      " 7   batch_id   2654 non-null   object \n",
      " 8   Corr_lag1  2654 non-null   float64\n",
      " 9   Corr_lag2  2654 non-null   float64\n",
      " 10  Corr_lag3  2654 non-null   float64\n",
      " 11  Corr_lag4  2654 non-null   float64\n",
      " 12  Corr_lag5  2654 non-null   float64\n",
      " 13  Corr_lag6  2654 non-null   float64\n",
      " 14  Zyg_lag1   2654 non-null   float64\n",
      " 15  Zyg_lag2   2654 non-null   float64\n",
      " 16  Zyg_lag3   2654 non-null   float64\n",
      " 17  Zyg_lag4   2654 non-null   float64\n",
      " 18  Zyg_lag5   2654 non-null   float64\n",
      " 19  Zyg_lag6   2654 non-null   float64\n",
      " 20  Mas_lag1   2654 non-null   float64\n",
      " 21  Mas_lag2   2654 non-null   float64\n",
      " 22  Mas_lag3   2654 non-null   float64\n",
      " 23  Mas_lag4   2654 non-null   float64\n",
      " 24  Mas_lag5   2654 non-null   float64\n",
      "dtypes: float64(22), int64(2), object(1)\n",
      "memory usage: 518.5+ KB\n"
     ]
    }
   ],
   "source": [
    "arr_id = data[\"batch_id\"].unique()\n",
    "df_lagged = delay_embedding(data, batch_id = arr_id[0])\n",
    "for batch_id in arr_id[1:]:\n",
    "    df_lagged = pd.concat([df_lagged, delay_embedding(data, batch_id)], ignore_index=True)\n",
    "df_lagged.info()"
   ]
  },
  {
   "cell_type": "markdown",
   "id": "c2cf1044",
   "metadata": {},
   "source": [
    "### Сохранение дата-сета в CSV файл"
   ]
  },
  {
   "cell_type": "code",
   "execution_count": 17,
   "id": "476ead6f",
   "metadata": {},
   "outputs": [],
   "source": [
    "df_lagged.to_csv('data_lagged.csv')"
   ]
  }
 ],
 "metadata": {
  "kernelspec": {
   "display_name": "Python 3 (ipykernel)",
   "language": "python",
   "name": "python3"
  },
  "language_info": {
   "codemirror_mode": {
    "name": "ipython",
    "version": 3
   },
   "file_extension": ".py",
   "mimetype": "text/x-python",
   "name": "python",
   "nbconvert_exporter": "python",
   "pygments_lexer": "ipython3",
   "version": "3.9.12"
  }
 },
 "nbformat": 4,
 "nbformat_minor": 5
}
