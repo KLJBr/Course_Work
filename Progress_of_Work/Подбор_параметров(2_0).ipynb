{
 "cells": [
  {
   "cell_type": "code",
   "execution_count": 1,
   "id": "3fe7bd3e",
   "metadata": {},
   "outputs": [],
   "source": [
    "import pandas as pd\n",
    "import numpy as np\n",
    "import seaborn as sns\n",
    "import matplotlib.pyplot as plt\n",
    "from sklearn.model_selection import train_test_split, GroupKFold, GridSearchCV\n",
    "from sklearn import linear_model \n",
    "from sklearn.ensemble import RandomForestRegressor,GradientBoostingRegressor\n",
    "from sklearn.tree import DecisionTreeRegressor\n",
    "from sklearn.neighbors import KNeighborsRegressor\n",
    "from sklearn.svm import SVR\n",
    "from sklearn.metrics import mean_absolute_error, mean_squared_error, r2_score\n",
    "from sklearn.dummy import DummyRegressor\n",
    "from xgboost import XGBRegressor\n",
    "from lightgbm import LGBMRegressor\n",
    "from catboost import CatBoostRegressor\n",
    "import warnings\n",
    "\n",
    "warnings.filterwarnings('ignore')"
   ]
  },
  {
   "cell_type": "code",
   "execution_count": 2,
   "id": "64b33a20",
   "metadata": {},
   "outputs": [],
   "source": [
    "df = pd.read_csv(\"data_vad.csv\")\n",
    "data = df[(df[\"Valence\"].notna())&(df[\"Arousal\"].notna())].drop([\"filename\"], axis = 1)"
   ]
  },
  {
   "cell_type": "markdown",
   "id": "18c814b4",
   "metadata": {},
   "source": [
    "# Разделяем данные"
   ]
  },
  {
   "cell_type": "code",
   "execution_count": 3,
   "id": "19be7e86",
   "metadata": {},
   "outputs": [],
   "source": [
    "X1 = data[data[\"label\"] == 1][\"batch_id\"].unique()\n",
    "X2 = data[data[\"label\"] == 2][\"batch_id\"].unique()\n",
    "X3 = data[data[\"label\"] == 3][\"batch_id\"].unique()\n",
    "X1_train, X1_test = train_test_split(X1,train_size = 0.7, random_state = 42)\n",
    "X2_train, X2_test = train_test_split(X2,train_size = 0.7, random_state = 42)\n",
    "X3_train, X3_test = train_test_split(X3,train_size = 0.7, random_state = 42)\n",
    "X_train = [*X1_train, *X2_train, *X3_train]\n",
    "X_test = [*X1_test, *X2_test, *X3_test]\n",
    "data_train = data[data[\"batch_id\"].apply(lambda x: x in X_train)]\n",
    "data_test = data[data[\"batch_id\"].apply(lambda x: x in X_test)]"
   ]
  },
  {
   "cell_type": "code",
   "execution_count": 7,
   "id": "e0005cda",
   "metadata": {},
   "outputs": [],
   "source": [
    "X = data_train.iloc[:,1:4]\n",
    "X_test = data_test.iloc[:,1:4]\n",
    "y_valence = data_train.iloc[:,4:5]\n",
    "y_arousal = data_train.iloc[:,5:6]\n",
    "y_valence_test = data_test.iloc[:,4:5]\n",
    "y_arousal_test = data_test.iloc[:,5:6]"
   ]
  },
  {
   "cell_type": "code",
   "execution_count": 8,
   "id": "43c25285",
   "metadata": {},
   "outputs": [
    {
     "name": "stdout",
     "output_type": "stream",
     "text": [
      "<class 'pandas.core.frame.DataFrame'>\n",
      "Int64Index: 2499 entries, 10 to 165128\n",
      "Data columns (total 8 columns):\n",
      " #   Column    Non-Null Count  Dtype  \n",
      "---  ------    --------------  -----  \n",
      " 0   msec      2499 non-null   int64  \n",
      " 1   Corr      2499 non-null   float64\n",
      " 2   Zyg       2499 non-null   float64\n",
      " 3   Mas       2499 non-null   float64\n",
      " 4   Valence   2499 non-null   float64\n",
      " 5   Arousal   2499 non-null   float64\n",
      " 6   label     2499 non-null   int64  \n",
      " 7   batch_id  2499 non-null   object \n",
      "dtypes: float64(5), int64(2), object(1)\n",
      "memory usage: 175.7+ KB\n"
     ]
    }
   ],
   "source": [
    "data_train.info()"
   ]
  },
  {
   "cell_type": "markdown",
   "id": "5440a640",
   "metadata": {},
   "source": [
    "## Подбор параметров с помощью GridSearchCV и кросс-валидации GroupKFold"
   ]
  },
  {
   "cell_type": "code",
   "execution_count": 5,
   "id": "ec639504",
   "metadata": {},
   "outputs": [],
   "source": [
    "groups = np.array(data_train['batch_id'])\n",
    "idx = pd.Index(groups)\n",
    "Xb = data_train.iloc[:,1:4].set_index(idx)\n",
    "yb_valence = data_train.iloc[:,4:5].set_index(idx)\n",
    "yb_arousal = data_train.iloc[:,5:6].set_index(idx)"
   ]
  },
  {
   "cell_type": "markdown",
   "id": "d40e6df2",
   "metadata": {},
   "source": [
    "### SVR подбор гиперпараметра \"kernel\""
   ]
  },
  {
   "cell_type": "code",
   "execution_count": 6,
   "id": "ed82f0df",
   "metadata": {},
   "outputs": [
    {
     "data": {
      "text/plain": [
       "{'kernel': 'linear'}"
      ]
     },
     "execution_count": 6,
     "metadata": {},
     "output_type": "execute_result"
    }
   ],
   "source": [
    "#Valence\n",
    "GKF = GroupKFold(n_splits=5)\n",
    "cv = GKF.split(Xb, yb_valence, groups)\n",
    "params = {'kernel' : ['linear', 'poly', 'rbf', 'sigmoid']}\n",
    "\n",
    "grid = GridSearchCV(estimator = SVR(),\n",
    "                    param_grid = params, \n",
    "                    scoring = 'r2',\n",
    "                    cv = cv)\n",
    "\n",
    "svr_val = grid.fit(Xb, yb_valence)\n",
    "svr_val.best_params_"
   ]
  },
  {
   "cell_type": "code",
   "execution_count": 7,
   "id": "61e3d4ae",
   "metadata": {},
   "outputs": [
    {
     "data": {
      "text/plain": [
       "{'kernel': 'linear'}"
      ]
     },
     "execution_count": 7,
     "metadata": {},
     "output_type": "execute_result"
    }
   ],
   "source": [
    "#Arousal\n",
    "GKF = GroupKFold(n_splits=5)\n",
    "cv = GKF.split(Xb, yb_arousal, groups)\n",
    "params = {'kernel' : ['linear', 'poly', 'rbf', 'sigmoid']}\n",
    "\n",
    "grid = GridSearchCV(estimator = SVR(),\n",
    "                    param_grid = params, \n",
    "                    scoring = 'r2',\n",
    "                    cv = cv)\n",
    "\n",
    "svr_ar = grid.fit(Xb, yb_arousal)\n",
    "svr_ar.best_params_"
   ]
  },
  {
   "cell_type": "markdown",
   "id": "91ef8314",
   "metadata": {},
   "source": [
    "### KNeighborsRegressor подбор гиперпараметрa n_neighbors"
   ]
  },
  {
   "cell_type": "code",
   "execution_count": 8,
   "id": "74eb5c0c",
   "metadata": {},
   "outputs": [
    {
     "data": {
      "text/plain": [
       "{'n_neighbors': 59}"
      ]
     },
     "execution_count": 8,
     "metadata": {},
     "output_type": "execute_result"
    }
   ],
   "source": [
    "#Valence\n",
    "GKF = GroupKFold(n_splits=5)\n",
    "cv = GKF.split(Xb, yb_valence, groups)\n",
    "params = {'n_neighbors' : np.arange(1, 200)}\n",
    "\n",
    "grid = GridSearchCV(estimator = KNeighborsRegressor(),\n",
    "                    param_grid = params, \n",
    "                    scoring = 'r2',\n",
    "                    cv = cv)\n",
    "\n",
    "knn_val = grid.fit(Xb, yb_valence)\n",
    "knn_val.best_params_"
   ]
  },
  {
   "cell_type": "code",
   "execution_count": 6,
   "id": "8a5b2942",
   "metadata": {},
   "outputs": [
    {
     "data": {
      "text/plain": [
       "{'n_neighbors': 102}"
      ]
     },
     "execution_count": 6,
     "metadata": {},
     "output_type": "execute_result"
    }
   ],
   "source": [
    "#Arousal\n",
    "GKF = GroupKFold(n_splits=5)\n",
    "cv = GKF.split(Xb, yb_arousal, groups)\n",
    "params = {'n_neighbors' : np.arange(1, 200)}\n",
    "\n",
    "grid = GridSearchCV(estimator = KNeighborsRegressor(),\n",
    "                    param_grid = params, \n",
    "                    scoring = 'r2',\n",
    "                    cv = cv)\n",
    "\n",
    "knn_ar = grid.fit(Xb, yb_arousal)\n",
    "knn_ar.best_params_"
   ]
  },
  {
   "cell_type": "markdown",
   "id": "9908770a",
   "metadata": {},
   "source": [
    "### RandomForestRegressor подбор гиперпараметров max_depth, n_estimators."
   ]
  },
  {
   "cell_type": "code",
   "execution_count": 9,
   "id": "25ac40d7",
   "metadata": {},
   "outputs": [
    {
     "data": {
      "text/plain": [
       "{'max_depth': 4, 'n_estimators': 100}"
      ]
     },
     "execution_count": 9,
     "metadata": {},
     "output_type": "execute_result"
    }
   ],
   "source": [
    "#Valence\n",
    "GKF = GroupKFold(n_splits=5)\n",
    "cv = GKF.split(Xb, yb_valence, groups)\n",
    "params = {'max_depth' : np.arange(1, 7), 'n_estimators':np.arange(100, 700, 100)}\n",
    "\n",
    "grid = GridSearchCV(estimator = RandomForestRegressor(random_state = 42),\n",
    "                    param_grid = params, \n",
    "                    scoring = 'r2',\n",
    "                    cv = cv)\n",
    "\n",
    "rfr_val = grid.fit(Xb, yb_valence)\n",
    "rfr_val.best_params_"
   ]
  },
  {
   "cell_type": "code",
   "execution_count": 30,
   "id": "deccf3bb",
   "metadata": {},
   "outputs": [
    {
     "data": {
      "text/plain": [
       "{'max_depth': 2, 'n_estimators': 100}"
      ]
     },
     "execution_count": 30,
     "metadata": {},
     "output_type": "execute_result"
    }
   ],
   "source": [
    "#Arousal\n",
    "GKF = GroupKFold(n_splits=5)\n",
    "cv = GKF.split(Xb, yb_arousal, groups)\n",
    "params = {'max_depth' : np.arange(2, 6), 'n_estimators':np.arange(100, 600, 100)}\n",
    "\n",
    "grid = GridSearchCV(estimator = RandomForestRegressor(random_state = 42),\n",
    "                    param_grid = params, \n",
    "                    scoring = 'r2',\n",
    "                    cv = cv)\n",
    "\n",
    "rfr_ar = grid.fit(Xb, yb_arousal)\n",
    "rfr_ar.best_params_"
   ]
  },
  {
   "cell_type": "markdown",
   "id": "b56de839",
   "metadata": {},
   "source": [
    "### GradientBoostingRegressor подбор гиперпараметров max_depth, n_estimators."
   ]
  },
  {
   "cell_type": "code",
   "execution_count": 40,
   "id": "c8b22e6a",
   "metadata": {},
   "outputs": [
    {
     "data": {
      "text/plain": [
       "{'max_depth': 3, 'n_estimators': 100}"
      ]
     },
     "execution_count": 40,
     "metadata": {},
     "output_type": "execute_result"
    }
   ],
   "source": [
    "#Valence\n",
    "GKF = GroupKFold(n_splits=5)\n",
    "cv = GKF.split(Xb, yb_valence, groups)\n",
    "params = {'max_depth' : np.arange(1, 5), 'n_estimators':np.arange(100, 600, 100)}\n",
    "\n",
    "grid = GridSearchCV(estimator = GradientBoostingRegressor(random_state = 42),\n",
    "                    param_grid = params, \n",
    "                    scoring = 'r2',\n",
    "                    cv = cv)\n",
    " \n",
    "gbr_val = grid.fit(Xb, yb_valence)\n",
    "gbr_val.best_params_"
   ]
  },
  {
   "cell_type": "code",
   "execution_count": 41,
   "id": "0494cf74",
   "metadata": {},
   "outputs": [
    {
     "data": {
      "text/plain": [
       "{'max_depth': 1, 'n_estimators': 100}"
      ]
     },
     "execution_count": 41,
     "metadata": {},
     "output_type": "execute_result"
    }
   ],
   "source": [
    "#Arousal\n",
    "GKF = GroupKFold(n_splits=5)\n",
    "cv = GKF.split(Xb, yb_arousal, groups)\n",
    "params = {'max_depth' : np.arange(1, 5), 'n_estimators':np.arange(100, 600, 100)}\n",
    "\n",
    "grid = GridSearchCV(estimator = GradientBoostingRegressor(random_state = 42),\n",
    "                    param_grid = params, \n",
    "                    scoring = 'r2',\n",
    "                    cv = cv)\n",
    "\n",
    "gbr_ar = grid.fit(Xb, yb_arousal)\n",
    "gbr_ar.best_params_"
   ]
  },
  {
   "cell_type": "markdown",
   "id": "37ec215e",
   "metadata": {},
   "source": [
    "### LGBMRegressor подбор гиперпараметров max_depth, n_estimators."
   ]
  },
  {
   "cell_type": "code",
   "execution_count": 42,
   "id": "70dc600d",
   "metadata": {},
   "outputs": [
    {
     "data": {
      "text/plain": [
       "{'max_depth': 2, 'n_estimators': 100}"
      ]
     },
     "execution_count": 42,
     "metadata": {},
     "output_type": "execute_result"
    }
   ],
   "source": [
    "#Valence\n",
    "GKF = GroupKFold(n_splits=5)\n",
    "cv = GKF.split(Xb, yb_valence, groups)\n",
    "params = {'max_depth' : np.arange(1, 5), 'n_estimators':np.arange(100, 600, 100)}\n",
    "\n",
    "grid = GridSearchCV(estimator = LGBMRegressor(random_state = 42),\n",
    "                    param_grid = params, \n",
    "                    scoring = 'r2',\n",
    "                    cv = cv)\n",
    "\n",
    "lgbmr_val = grid.fit(Xb, yb_valence)\n",
    "lgbmr_val.best_params_"
   ]
  },
  {
   "cell_type": "code",
   "execution_count": 45,
   "id": "02ccc6cb",
   "metadata": {},
   "outputs": [
    {
     "data": {
      "text/plain": [
       "{'max_depth': 1, 'n_estimators': 100}"
      ]
     },
     "execution_count": 45,
     "metadata": {},
     "output_type": "execute_result"
    }
   ],
   "source": [
    "#Arousal\n",
    "GKF = GroupKFold(n_splits=5)\n",
    "cv = GKF.split(Xb, yb_arousal, groups)\n",
    "params = {'max_depth' : np.arange(1, 5), 'n_estimators':np.arange(100, 600, 100)}\n",
    "\n",
    "grid = GridSearchCV(estimator = LGBMRegressor(random_state = 42),\n",
    "                    param_grid = params, \n",
    "                    scoring = 'r2',\n",
    "                    cv = cv)\n",
    "\n",
    "lgbmr_ar = grid.fit(Xb, yb_arousal)\n",
    "lgbmr_ar.best_params_"
   ]
  },
  {
   "cell_type": "markdown",
   "id": "125571a4",
   "metadata": {},
   "source": [
    "### XGBRegressor подбор гиперпараметров max_depth, n_estimators."
   ]
  },
  {
   "cell_type": "code",
   "execution_count": 46,
   "id": "a2aed7c2",
   "metadata": {},
   "outputs": [
    {
     "data": {
      "text/plain": [
       "{'max_depth': 2, 'n_estimators': 100}"
      ]
     },
     "execution_count": 46,
     "metadata": {},
     "output_type": "execute_result"
    }
   ],
   "source": [
    "#Valence\n",
    "GKF = GroupKFold(n_splits=5)\n",
    "cv = GKF.split(Xb, yb_valence, groups)\n",
    "params = {'max_depth' : np.arange(1, 5), 'n_estimators':np.arange(100, 600, 100)}\n",
    "\n",
    "grid = GridSearchCV(estimator = XGBRegressor(random_state = 42),\n",
    "                    param_grid = params, \n",
    "                    scoring = 'r2',\n",
    "                    cv = cv)\n",
    "\n",
    "xgbr_val = grid.fit(Xb, yb_valence)\n",
    "xgbr_val.best_params_"
   ]
  },
  {
   "cell_type": "code",
   "execution_count": 47,
   "id": "a1f82fa2",
   "metadata": {},
   "outputs": [
    {
     "data": {
      "text/plain": [
       "{'max_depth': 1, 'n_estimators': 100}"
      ]
     },
     "execution_count": 47,
     "metadata": {},
     "output_type": "execute_result"
    }
   ],
   "source": [
    "#Arousal\n",
    "GKF = GroupKFold(n_splits=5)\n",
    "cv = GKF.split(Xb, yb_arousal, groups)\n",
    "params = {'max_depth' : np.arange(1, 5), 'n_estimators':np.arange(100, 600, 100)}\n",
    "\n",
    "grid = GridSearchCV(estimator = XGBRegressor(random_state = 42),\n",
    "                    param_grid = params, \n",
    "                    scoring = 'r2',\n",
    "                    cv = cv)\n",
    "\n",
    "xgbr_ar = grid.fit(Xb, yb_arousal)\n",
    "xgbr_ar.best_params_"
   ]
  },
  {
   "cell_type": "markdown",
   "id": "27702d84",
   "metadata": {},
   "source": [
    "### CatBoostRegressor подбор гиперпараметров max_depth, n_estimators."
   ]
  },
  {
   "cell_type": "code",
   "execution_count": 72,
   "id": "22b12c56",
   "metadata": {},
   "outputs": [],
   "source": [
    "#Valence\n",
    "GKF = GroupKFold(n_splits=5)\n",
    "cv = GKF.split(Xb, yb_valence, groups)\n",
    "params = {'depth' : np.arange(1, 5), 'iterations':np.arange(100, 600, 100)}\n",
    "\n",
    "grid = GridSearchCV(estimator = CatBoostRegressor(random_state = 42, verbose = False, train_dir = 'catboost_logging'),\n",
    "                    param_grid = params, \n",
    "                    scoring = 'r2',\n",
    "                    cv = cv)\n",
    "\n",
    "gv = grid.fit(Xb, yb_valence)"
   ]
  },
  {
   "cell_type": "code",
   "execution_count": 73,
   "id": "0eb1bd56",
   "metadata": {},
   "outputs": [],
   "source": [
    "#Arousal\n",
    "GKF = GroupKFold(n_splits=5)\n",
    "cv = GKF.split(Xb, yb_arousal, groups)\n",
    "params = {'depth' : np.arange(1, 5), 'iterations':np.arange(100, 600, 100)}\n",
    "\n",
    "grid = GridSearchCV(estimator = CatBoostRegressor(random_state = 42, verbose = False, train_dir = 'catboost_logging'),\n",
    "                    param_grid = params, \n",
    "                    scoring = 'r2',\n",
    "                    cv = cv)\n",
    "\n",
    "ga = grid.fit(Xb, yb_arousal)"
   ]
  },
  {
   "cell_type": "code",
   "execution_count": 74,
   "id": "60cb0a7c",
   "metadata": {},
   "outputs": [
    {
     "name": "stdout",
     "output_type": "stream",
     "text": [
      "Параметры для Valence: {'depth': 2, 'iterations': 300}\n",
      "Параметры для Arousal: {'depth': 1, 'iterations': 100}\n"
     ]
    }
   ],
   "source": [
    "print(f'Параметры для Valence: {gv.best_params_}')\n",
    "print(f'Параметры для Arousal: {ga.best_params_}')"
   ]
  }
 ],
 "metadata": {
  "kernelspec": {
   "display_name": "Python 3 (ipykernel)",
   "language": "python",
   "name": "python3"
  },
  "language_info": {
   "codemirror_mode": {
    "name": "ipython",
    "version": 3
   },
   "file_extension": ".py",
   "mimetype": "text/x-python",
   "name": "python",
   "nbconvert_exporter": "python",
   "pygments_lexer": "ipython3",
   "version": "3.9.12"
  }
 },
 "nbformat": 4,
 "nbformat_minor": 5
}
