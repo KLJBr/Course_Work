{
 "cells": [
  {
   "cell_type": "code",
   "execution_count": 3,
   "id": "7d8a0a08",
   "metadata": {},
   "outputs": [],
   "source": [
    "import pandas as pd\n",
    "import numpy as np\n",
    "import seaborn as sns\n",
    "import matplotlib.pyplot as plt\n",
    "from sklearn.model_selection import train_test_split, GroupKFold, GridSearchCV\n",
    "from sklearn import linear_model \n",
    "from sklearn.ensemble import RandomForestRegressor,GradientBoostingRegressor\n",
    "from sklearn.tree import DecisionTreeRegressor\n",
    "from sklearn.neighbors import KNeighborsRegressor\n",
    "from sklearn.svm import SVR\n",
    "from sklearn.metrics import mean_absolute_error, mean_squared_error, r2_score\n",
    "from sklearn.dummy import DummyRegressor\n",
    "from xgboost import XGBRegressor\n",
    "from lightgbm import LGBMRegressor\n",
    "from catboost import CatBoostRegressor\n",
    "import warnings\n",
    "import pickle as pkl\n",
    "\n",
    "warnings.filterwarnings('ignore')"
   ]
  },
  {
   "cell_type": "code",
   "execution_count": 4,
   "id": "f168f1a3",
   "metadata": {},
   "outputs": [],
   "source": [
    "df = pd.read_csv(\"data_vad.csv\")\n",
    "data = df[(df[\"Valence\"].notna())&(df[\"Arousal\"].notna())].drop([\"filename\"], axis = 1)"
   ]
  },
  {
   "cell_type": "markdown",
   "id": "bc1b2b21",
   "metadata": {},
   "source": [
    "# Разделяем данные"
   ]
  },
  {
   "cell_type": "code",
   "execution_count": 5,
   "id": "99dc836f",
   "metadata": {},
   "outputs": [],
   "source": [
    "X1 = data[data[\"label\"] == 1][\"batch_id\"].unique()\n",
    "X2 = data[data[\"label\"] == 2][\"batch_id\"].unique()\n",
    "X3 = data[data[\"label\"] == 3][\"batch_id\"].unique()\n",
    "X1_train, X1_test = train_test_split(X1,train_size = 0.7, random_state = 42)\n",
    "X2_train, X2_test = train_test_split(X2,train_size = 0.7, random_state = 42)\n",
    "X3_train, X3_test = train_test_split(X3,train_size = 0.7, random_state = 42)\n",
    "X_train = [*X1_train, *X2_train, *X3_train]\n",
    "X_test = [*X1_test, *X2_test, *X3_test]\n",
    "data_train = data[data[\"batch_id\"].apply(lambda x: x in X_train)]\n",
    "data_test = data[data[\"batch_id\"].apply(lambda x: x in X_test)]"
   ]
  },
  {
   "cell_type": "code",
   "execution_count": 6,
   "id": "39a9be26",
   "metadata": {},
   "outputs": [],
   "source": [
    "X = data_train.iloc[:,1:4]\n",
    "X_test = data_test.iloc[:,1:4]\n",
    "y_valence = data_train.iloc[:,4:5]\n",
    "y_arousal = data_train.iloc[:,5:6]\n",
    "y_valence_test = data_test.iloc[:,4:5]\n",
    "y_arousal_test = data_test.iloc[:,5:6]"
   ]
  },
  {
   "cell_type": "markdown",
   "id": "4993fe38",
   "metadata": {},
   "source": [
    "# Сохранение моделей с подобранными параметрами."
   ]
  },
  {
   "cell_type": "code",
   "execution_count": 7,
   "id": "83934d2d",
   "metadata": {},
   "outputs": [],
   "source": [
    "#для Valence\n",
    "models = [DummyRegressor(), \n",
    "          linear_model.LinearRegression(), \n",
    "          linear_model.BayesianRidge(), \n",
    "          linear_model.ElasticNet(), \n",
    "          SVR(kernel = 'linear'),  \n",
    "          KNeighborsRegressor(n_neighbors = 59), \n",
    "          DecisionTreeRegressor(max_depth = 4, random_state = 42),\n",
    "          RandomForestRegressor(max_depth = 4, n_estimators = 100, random_state = 42),\n",
    "          GradientBoostingRegressor(max_depth = 3, n_estimators = 100, random_state = 42),\n",
    "          CatBoostRegressor(random_state = 42, verbose = False, train_dir = 'catboost_logging', iterations = 300, depth = 2), \n",
    "          LGBMRegressor(max_depth = 2, n_estimators = 100, random_state = 42), \n",
    "          XGBRegressor(n_estimators = 100, max_depth = 2, random_state = 42)]\n",
    "for model in models:\n",
    "    model.fit(X, y_valence)\n",
    "    l = str(model)\n",
    "    if '(' in l:\n",
    "        filename = (l[:l.index('(')] + \"_valence.pkl\")\n",
    "    else:\n",
    "        filename = 'CatBoost_valence.pkl'\n",
    "    with open(filename, 'wb') as f:\n",
    "        pkl.dump(model, f)"
   ]
  },
  {
   "cell_type": "code",
   "execution_count": 8,
   "id": "1eceaeb3",
   "metadata": {},
   "outputs": [],
   "source": [
    "#для Arousal\n",
    "models = [DummyRegressor(), \n",
    "          linear_model.LinearRegression(), \n",
    "          linear_model.BayesianRidge(), \n",
    "          linear_model.ElasticNet(), \n",
    "          SVR(kernel = 'linear'),  \n",
    "          KNeighborsRegressor(n_neighbors = 102), \n",
    "          DecisionTreeRegressor(max_depth = 2, random_state = 42),\n",
    "          RandomForestRegressor(max_depth = 2, n_estimators = 100, random_state = 42),\n",
    "          GradientBoostingRegressor(max_depth = 1, n_estimators = 100, random_state = 42),\n",
    "          CatBoostRegressor(random_state = 42, verbose = False, train_dir = 'catboost_logging', iterations = 100, depth = 1), \n",
    "          LGBMRegressor(max_depth = 1, n_estimators = 100, random_state = 42), \n",
    "          XGBRegressor(n_estimators = 100, max_depth = 1, random_state = 42)]\n",
    "for model in models:\n",
    "    model.fit(X, y_arousal)\n",
    "    l = str(model)\n",
    "    if '(' in l:\n",
    "        filename = (l[:l.index('(')] + \"_arousal.pkl\")\n",
    "    else:\n",
    "        filename = 'CatBoost_arousal.pkl'\n",
    "    with open(filename, 'wb') as f:\n",
    "        pkl.dump(model, f)"
   ]
  }
 ],
 "metadata": {
  "kernelspec": {
   "display_name": "Python 3 (ipykernel)",
   "language": "python",
   "name": "python3"
  },
  "language_info": {
   "codemirror_mode": {
    "name": "ipython",
    "version": 3
   },
   "file_extension": ".py",
   "mimetype": "text/x-python",
   "name": "python",
   "nbconvert_exporter": "python",
   "pygments_lexer": "ipython3",
   "version": "3.9.12"
  }
 },
 "nbformat": 4,
 "nbformat_minor": 5
}
